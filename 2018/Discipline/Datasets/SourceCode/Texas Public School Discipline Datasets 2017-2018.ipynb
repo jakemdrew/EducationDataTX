{
 "cells": [
  {
   "cell_type": "markdown",
   "metadata": {
    "deletable": true,
    "editable": true
   },
   "source": [
    "# Texas Public School Discipline Datasets 2017-2018\n",
    "\n",
    "This code creates ranking datasets for all Texas public schools and districts by discipline types. \n",
    "* Rankings are based on the percentage of discipline actions compared to campus cumulative year end enrollment.  \n",
    "* A school with the lowest rank percentage has the highest percentage of a particular discipline type in the State of Texas or in a school district. \n",
    "* Data used to create the rankings datasets comes from: https://rptsvr1.tea.texas.gov/adhocrpt/Disciplinary_Data_Products/Download_All_Campuses.html\n",
    "* There were 8,612 campuses considered in this study.\n",
    "* * There were 1200 school districts considered in this study.\n",
    "\n",
    "Prepared by:  Jake Drew Ph.D."
   ]
  },
  {
   "cell_type": "code",
   "execution_count": 67,
   "metadata": {
    "collapsed": true,
    "deletable": true,
    "editable": true
   },
   "outputs": [],
   "source": [
    "#import required Libraries\n",
    "import pandas as pd\n",
    "import numpy as np\n",
    "import os\n",
    "import string"
   ]
  },
  {
   "cell_type": "code",
   "execution_count": 68,
   "metadata": {
    "collapsed": false,
    "deletable": true,
    "editable": true
   },
   "outputs": [],
   "source": [
    "#Read in raw data file for disipline\n",
    "path = 'D:/Nathan/HebronSchoolData/RawData/CAMPUS_summary_18_NO_HEADERS.csv'\n",
    "discipline2018 = pd.read_csv(path, low_memory=False) #, dtype={'unit_code': object}) \n",
    "\n",
    "#Remove all masking\n",
    "discipline2018['YR18'] = discipline2018['YR18'].str.lstrip('<')\n",
    "\n",
    "#Remove or delete -999 records\n",
    "#discipline2018 = discipline2018.replace({\"-999\":0})\n",
    "discipline2018 = discipline2018[discipline2018['YR18'] != \"-999\"]\n",
    "\n",
    "#Convert counts to int\n",
    "discipline2018['YR18'] = discipline2018['YR18'].astype(int)"
   ]
  },
  {
   "cell_type": "markdown",
   "metadata": {
    "deletable": true,
    "editable": true
   },
   "source": [
    "## Data Preparation\n",
    "* Data used in this report comes from: https://rptsvr1.tea.texas.gov/adhocrpt/Disciplinary_Data_Products/Download_All_Campuses.html\n",
    "* TEA report headers are deleted before reading in the data. \n",
    "* Records with -999 values are deleted.\n",
    "* We remove the '<' character from masked records using the remaining number as an estimated / imputed value for these datasets.\n",
    "\n",
    "### Steps to Create a Dataset for Discipline Rankings\n",
    "* First, the All Campus Discipline Report is filtered to review only the A-PARTICIPATION and B-DISCIPLINE DATA TRENDS section headings. \n",
    "* Next the filtered table is pivoted to create new columns for each unique heading in the filtered sections.\n",
    "* Finally, the school metadata (Region, District, and Campus Values) are added / merged back to the pivoted data to create a new ranking dataset with one record per public school campus and all unique A-PARTICIPATION and B-DISCIPLINE DATA TRENDS section heading counts as columns in the final dataset.   "
   ]
  },
  {
   "cell_type": "code",
   "execution_count": 69,
   "metadata": {
    "collapsed": false,
    "deletable": true,
    "editable": true
   },
   "outputs": [
    {
     "name": "stdout",
     "output_type": "stream",
     "text": [
      "<class 'pandas.core.frame.DataFrame'>\n",
      "Int64Index: 8614 entries, 0 to 328583\n",
      "Data columns (total 3 columns):\n",
      "REGION                      8614 non-null int64\n",
      "DISTRICT NAME AND NUMBER    8614 non-null object\n",
      "CAMPUS NAME AND NUMBER      8614 non-null object\n",
      "dtypes: int64(1), object(2)\n",
      "memory usage: 269.2+ KB\n"
     ]
    }
   ],
   "source": [
    "#Get a unique list of each school's metadata\n",
    "schools2018 = discipline2018[['REGION', 'DISTRICT NAME AND NUMBER', 'CAMPUS NAME AND NUMBER']]\n",
    "schools2018 = schools2018.drop_duplicates()\n",
    "schools2018.info()"
   ]
  },
  {
   "cell_type": "code",
   "execution_count": 70,
   "metadata": {
    "collapsed": true,
    "deletable": true,
    "editable": true
   },
   "outputs": [],
   "source": [
    "#Filter displine data to review only the A-PARTICIPATION and B-DISCIPLINE DATA TRENDS sections\n",
    "disciplineStats2018 = discipline2018[ (discipline2018['SECTION'] == 'A-PARTICIPATION') |\n",
    "                                      (discipline2018['SECTION'] == 'B-DISCIPLINE DATA TRENDS')\n",
    "                                    ]\n",
    "\n",
    "disciplineStats2018 = disciplineStats2018[['CAMPUS NAME AND NUMBER',\n",
    "                                           'HEADING NAME', \n",
    "                                           'YR18']]"
   ]
  },
  {
   "cell_type": "code",
   "execution_count": 71,
   "metadata": {
    "collapsed": false,
    "deletable": true,
    "editable": true
   },
   "outputs": [],
   "source": [
    "#Pivot table creating one record per school campus with cols for all section heading names / discipline categories\n",
    "disciplineStats2018 = pd.pivot_table(disciplineStats2018\n",
    "                                     , values=  'YR18'\n",
    "                                     , index=   'CAMPUS NAME AND NUMBER'\n",
    "                                     , columns= 'HEADING NAME')\n",
    "\n",
    "#Make our index a column for merges later\n",
    "disciplineStats2018.reset_index(inplace=True) "
   ]
  },
  {
   "cell_type": "code",
   "execution_count": 72,
   "metadata": {
    "collapsed": false,
    "deletable": true,
    "editable": true
   },
   "outputs": [
    {
     "name": "stdout",
     "output_type": "stream",
     "text": [
      "<class 'pandas.core.frame.DataFrame'>\n",
      "RangeIndex: 8612 entries, 0 to 8611\n",
      "Data columns (total 15 columns):\n",
      "CAMPUS NAME AND NUMBER                   8612 non-null object\n",
      "CAMPUS CUMULATIVE YEAR END ENROLLMENT    8490 non-null float64\n",
      "CAMPUS DISCIPLINE POPULATION             5777 non-null float64\n",
      "CAMPUS DISCIPLINE RECORD COUNT           6341 non-null float64\n",
      "COUNT OF STUDENTS EXPELLED               62 non-null float64\n",
      "COUNT OF STUDENTS EXPELLED TO JJAEP      44 non-null float64\n",
      "COUNT OF STUDENTS REMOVED TO A DAEP      1730 non-null float64\n",
      "COUNT OF STUDENTS SUSPENDED IN SCHOOL    4945 non-null float64\n",
      "DISCRETIONARY DAEP REMOVALS              842 non-null float64\n",
      "DISCRETIONARY EXPULSIONS                 21 non-null float64\n",
      "DISCRETIONARY EXPULSIONS TO JJAEP        13 non-null float64\n",
      "MANDATORY DAEP REMOVALS                  778 non-null float64\n",
      "MANDATORY EXPULSIONS                     6 non-null float64\n",
      "MANDATORY EXPULSIONS TO JJAEP            4 non-null float64\n",
      "STUDENTS SUSPENDED OUT OF SCHOOL         3281 non-null float64\n",
      "dtypes: float64(14), object(1)\n",
      "memory usage: 1009.3+ KB\n"
     ]
    }
   ],
   "source": [
    "#Look at the new discipline stats columns we created during the table pivot\n",
    "disciplineStats2018.info()"
   ]
  },
  {
   "cell_type": "code",
   "execution_count": 73,
   "metadata": {
    "collapsed": false,
    "deletable": true,
    "editable": true
   },
   "outputs": [
    {
     "name": "stdout",
     "output_type": "stream",
     "text": [
      "*********************************Start: disciplineStats2018 Data*********************************\n",
      "<class 'pandas.core.frame.DataFrame'>\n",
      "RangeIndex: 8612 entries, 0 to 8611\n",
      "Columns: 15 entries, CAMPUS NAME AND NUMBER to STUDENTS SUSPENDED OUT OF SCHOOL\n",
      "dtypes: float64(14), object(1)\n",
      "memory usage: 1009.3+ KB\n",
      "*********************************After: disciplineStats2018 Data**************************\n",
      "<class 'pandas.core.frame.DataFrame'>\n",
      "Int64Index: 8612 entries, 0 to 8611\n",
      "Columns: 17 entries, CAMPUS NAME AND NUMBER to DISTRICT NAME AND NUMBER\n",
      "dtypes: float64(14), int64(1), object(2)\n",
      "memory usage: 1.2+ MB\n"
     ]
    }
   ],
   "source": [
    "#Merge school metadata back to discipline category data  \n",
    "print('*********************************Start: disciplineStats2018 Data*********************************')\n",
    "disciplineStats2018.info(verbose=False)\n",
    "\n",
    "#Merge profile and profileMetric data\n",
    "disciplineStats2018 = disciplineStats2018.merge(schools2018,how='left',on='CAMPUS NAME AND NUMBER', suffixes=('', '_Drop'))\n",
    "\n",
    "print('*********************************After: disciplineStats2018 Data**************************')\n",
    "disciplineStats2018.info(verbose=False)"
   ]
  },
  {
   "cell_type": "markdown",
   "metadata": {
    "deletable": true,
    "editable": true
   },
   "source": [
    "### This is a Snapshot of the Pivoted Dataset used for Generating Rankings"
   ]
  },
  {
   "cell_type": "code",
   "execution_count": 74,
   "metadata": {
    "collapsed": false,
    "deletable": true,
    "editable": true
   },
   "outputs": [
    {
     "data": {
      "text/html": [
       "<div>\n",
       "<style scoped>\n",
       "    .dataframe tbody tr th:only-of-type {\n",
       "        vertical-align: middle;\n",
       "    }\n",
       "\n",
       "    .dataframe tbody tr th {\n",
       "        vertical-align: top;\n",
       "    }\n",
       "\n",
       "    .dataframe thead th {\n",
       "        text-align: right;\n",
       "    }\n",
       "</style>\n",
       "<table border=\"1\" class=\"dataframe\">\n",
       "  <thead>\n",
       "    <tr style=\"text-align: right;\">\n",
       "      <th></th>\n",
       "      <th>CAMPUS NAME AND NUMBER</th>\n",
       "      <th>CAMPUS CUMULATIVE YEAR END ENROLLMENT</th>\n",
       "      <th>CAMPUS DISCIPLINE POPULATION</th>\n",
       "      <th>CAMPUS DISCIPLINE RECORD COUNT</th>\n",
       "      <th>COUNT OF STUDENTS EXPELLED</th>\n",
       "      <th>COUNT OF STUDENTS EXPELLED TO JJAEP</th>\n",
       "      <th>COUNT OF STUDENTS REMOVED TO A DAEP</th>\n",
       "      <th>COUNT OF STUDENTS SUSPENDED IN SCHOOL</th>\n",
       "      <th>DISCRETIONARY DAEP REMOVALS</th>\n",
       "      <th>DISCRETIONARY EXPULSIONS</th>\n",
       "      <th>DISCRETIONARY EXPULSIONS TO JJAEP</th>\n",
       "      <th>MANDATORY DAEP REMOVALS</th>\n",
       "      <th>MANDATORY EXPULSIONS</th>\n",
       "      <th>MANDATORY EXPULSIONS TO JJAEP</th>\n",
       "      <th>STUDENTS SUSPENDED OUT OF SCHOOL</th>\n",
       "      <th>REGION</th>\n",
       "      <th>DISTRICT NAME AND NUMBER</th>\n",
       "    </tr>\n",
       "  </thead>\n",
       "  <tbody>\n",
       "    <tr>\n",
       "      <th>0</th>\n",
       "      <td>21ST CENTURY EARLY LEARNING FOUNDA 108913118</td>\n",
       "      <td>615.0</td>\n",
       "      <td>NaN</td>\n",
       "      <td>NaN</td>\n",
       "      <td>NaN</td>\n",
       "      <td>NaN</td>\n",
       "      <td>NaN</td>\n",
       "      <td>NaN</td>\n",
       "      <td>NaN</td>\n",
       "      <td>NaN</td>\n",
       "      <td>NaN</td>\n",
       "      <td>NaN</td>\n",
       "      <td>NaN</td>\n",
       "      <td>NaN</td>\n",
       "      <td>NaN</td>\n",
       "      <td>1</td>\n",
       "      <td>WESLACO ISD 108913</td>\n",
       "    </tr>\n",
       "    <tr>\n",
       "      <th>1</th>\n",
       "      <td>3D ACADEMY 108902006</td>\n",
       "      <td>262.0</td>\n",
       "      <td>42.0</td>\n",
       "      <td>92.0</td>\n",
       "      <td>NaN</td>\n",
       "      <td>NaN</td>\n",
       "      <td>11.0</td>\n",
       "      <td>15.0</td>\n",
       "      <td>NaN</td>\n",
       "      <td>NaN</td>\n",
       "      <td>NaN</td>\n",
       "      <td>14.0</td>\n",
       "      <td>NaN</td>\n",
       "      <td>NaN</td>\n",
       "      <td>32.0</td>\n",
       "      <td>1</td>\n",
       "      <td>DONNA ISD 108902</td>\n",
       "    </tr>\n",
       "    <tr>\n",
       "      <th>2</th>\n",
       "      <td>6TH GRADE CENTER 116905108</td>\n",
       "      <td>400.0</td>\n",
       "      <td>83.0</td>\n",
       "      <td>181.0</td>\n",
       "      <td>NaN</td>\n",
       "      <td>NaN</td>\n",
       "      <td>NaN</td>\n",
       "      <td>66.0</td>\n",
       "      <td>NaN</td>\n",
       "      <td>NaN</td>\n",
       "      <td>NaN</td>\n",
       "      <td>NaN</td>\n",
       "      <td>NaN</td>\n",
       "      <td>NaN</td>\n",
       "      <td>40.0</td>\n",
       "      <td>10</td>\n",
       "      <td>GREENVILLE ISD 116905</td>\n",
       "    </tr>\n",
       "    <tr>\n",
       "      <th>3</th>\n",
       "      <td>A &amp; M CONS H S 021901001</td>\n",
       "      <td>1804.0</td>\n",
       "      <td>218.0</td>\n",
       "      <td>553.0</td>\n",
       "      <td>NaN</td>\n",
       "      <td>NaN</td>\n",
       "      <td>31.0</td>\n",
       "      <td>194.0</td>\n",
       "      <td>NaN</td>\n",
       "      <td>NaN</td>\n",
       "      <td>NaN</td>\n",
       "      <td>NaN</td>\n",
       "      <td>NaN</td>\n",
       "      <td>NaN</td>\n",
       "      <td>60.0</td>\n",
       "      <td>6</td>\n",
       "      <td>COLLEGE STATION ISD 021901</td>\n",
       "    </tr>\n",
       "    <tr>\n",
       "      <th>4</th>\n",
       "      <td>A &amp; M CONSOLIDATED MIDDLE 021901042</td>\n",
       "      <td>961.0</td>\n",
       "      <td>140.0</td>\n",
       "      <td>514.0</td>\n",
       "      <td>NaN</td>\n",
       "      <td>NaN</td>\n",
       "      <td>20.0</td>\n",
       "      <td>134.0</td>\n",
       "      <td>NaN</td>\n",
       "      <td>NaN</td>\n",
       "      <td>NaN</td>\n",
       "      <td>NaN</td>\n",
       "      <td>NaN</td>\n",
       "      <td>NaN</td>\n",
       "      <td>59.0</td>\n",
       "      <td>6</td>\n",
       "      <td>COLLEGE STATION ISD 021901</td>\n",
       "    </tr>\n",
       "  </tbody>\n",
       "</table>\n",
       "</div>"
      ],
      "text/plain": [
       "                         CAMPUS NAME AND NUMBER  \\\n",
       "0  21ST CENTURY EARLY LEARNING FOUNDA 108913118   \n",
       "1                          3D ACADEMY 108902006   \n",
       "2                    6TH GRADE CENTER 116905108   \n",
       "3                      A & M CONS H S 021901001   \n",
       "4           A & M CONSOLIDATED MIDDLE 021901042   \n",
       "\n",
       "   CAMPUS CUMULATIVE YEAR END ENROLLMENT  CAMPUS DISCIPLINE POPULATION  \\\n",
       "0                                  615.0                           NaN   \n",
       "1                                  262.0                          42.0   \n",
       "2                                  400.0                          83.0   \n",
       "3                                 1804.0                         218.0   \n",
       "4                                  961.0                         140.0   \n",
       "\n",
       "   CAMPUS DISCIPLINE RECORD COUNT  COUNT OF STUDENTS EXPELLED  \\\n",
       "0                             NaN                         NaN   \n",
       "1                            92.0                         NaN   \n",
       "2                           181.0                         NaN   \n",
       "3                           553.0                         NaN   \n",
       "4                           514.0                         NaN   \n",
       "\n",
       "   COUNT OF STUDENTS EXPELLED TO JJAEP  COUNT OF STUDENTS REMOVED TO A DAEP  \\\n",
       "0                                  NaN                                  NaN   \n",
       "1                                  NaN                                 11.0   \n",
       "2                                  NaN                                  NaN   \n",
       "3                                  NaN                                 31.0   \n",
       "4                                  NaN                                 20.0   \n",
       "\n",
       "   COUNT OF STUDENTS SUSPENDED IN SCHOOL  DISCRETIONARY DAEP REMOVALS  \\\n",
       "0                                    NaN                          NaN   \n",
       "1                                   15.0                          NaN   \n",
       "2                                   66.0                          NaN   \n",
       "3                                  194.0                          NaN   \n",
       "4                                  134.0                          NaN   \n",
       "\n",
       "   DISCRETIONARY EXPULSIONS  DISCRETIONARY EXPULSIONS TO JJAEP  \\\n",
       "0                       NaN                                NaN   \n",
       "1                       NaN                                NaN   \n",
       "2                       NaN                                NaN   \n",
       "3                       NaN                                NaN   \n",
       "4                       NaN                                NaN   \n",
       "\n",
       "   MANDATORY DAEP REMOVALS  MANDATORY EXPULSIONS  \\\n",
       "0                      NaN                   NaN   \n",
       "1                     14.0                   NaN   \n",
       "2                      NaN                   NaN   \n",
       "3                      NaN                   NaN   \n",
       "4                      NaN                   NaN   \n",
       "\n",
       "   MANDATORY EXPULSIONS TO JJAEP  STUDENTS SUSPENDED OUT OF SCHOOL  REGION  \\\n",
       "0                            NaN                               NaN       1   \n",
       "1                            NaN                              32.0       1   \n",
       "2                            NaN                              40.0      10   \n",
       "3                            NaN                              60.0       6   \n",
       "4                            NaN                              59.0       6   \n",
       "\n",
       "     DISTRICT NAME AND NUMBER  \n",
       "0          WESLACO ISD 108913  \n",
       "1            DONNA ISD 108902  \n",
       "2       GREENVILLE ISD 116905  \n",
       "3  COLLEGE STATION ISD 021901  \n",
       "4  COLLEGE STATION ISD 021901  "
      ]
     },
     "execution_count": 74,
     "metadata": {},
     "output_type": "execute_result"
    }
   ],
   "source": [
    "#Look at the new merged data layout\n",
    "disciplineStats2018.head()"
   ]
  },
  {
   "cell_type": "code",
   "execution_count": 75,
   "metadata": {
    "collapsed": false
   },
   "outputs": [],
   "source": [
    "#Save a copy of the raw disciplne stats for creating the ditrict level dataset later\n",
    "rawDisciplineStats2018 = disciplineStats2018\n",
    "\n",
    "#Save the raw discipline stats without rankings to a csv file\n",
    "outpath = 'D:/Nathan/HebronSchoolData/RawData/CampusDisciplineStats2018.csv'\n",
    "rawDisciplineStats2018.to_csv(outpath, sep=',', index=False)"
   ]
  },
  {
   "cell_type": "markdown",
   "metadata": {
    "deletable": true,
    "editable": true
   },
   "source": [
    "## Creating the Campus Discipline Ranks\n",
    "* Each of the individual campus raw discipline category counts are looked at as a percentage of \"Campus Cumulative Year End Enrollment\".\n",
    "* This answers the general question: \"What percentage of our student body falls into a particular discipline category\".\n",
    "* These percentages also allow all Texas Public Schools to be equally ranked based on the normalized disciplinary percentages.\n",
    "* In some instances, percentages may exceed 100% since a single student could have multiple disciplinary actions taken.  For example, it would be normal to see a DAEP campus with a discipline record percentage > 100%."
   ]
  },
  {
   "cell_type": "code",
   "execution_count": 76,
   "metadata": {
    "collapsed": false,
    "deletable": true,
    "editable": true
   },
   "outputs": [],
   "source": [
    "#Create and rank disipline percentages \n",
    "disciplineStats2018['DisciplinePopPct'] = disciplineStats2018['CAMPUS DISCIPLINE POPULATION'] / \\\n",
    "                                          disciplineStats2018['CAMPUS CUMULATIVE YEAR END ENROLLMENT']\n",
    "\n",
    "disciplineStats2018['DisciplineRecordCtPct'] =  disciplineStats2018['CAMPUS DISCIPLINE RECORD COUNT'] / \\\n",
    "                                                disciplineStats2018['CAMPUS CUMULATIVE YEAR END ENROLLMENT']\n",
    "    \n",
    "disciplineStats2018['ExpelledPct'] =  disciplineStats2018['COUNT OF STUDENTS EXPELLED'] / \\\n",
    "                                      disciplineStats2018['CAMPUS CUMULATIVE YEAR END ENROLLMENT']\n",
    "\n",
    "disciplineStats2018['JJAEP_Pct'] =  disciplineStats2018['COUNT OF STUDENTS EXPELLED TO JJAEP'] / \\\n",
    "                                   disciplineStats2018['CAMPUS CUMULATIVE YEAR END ENROLLMENT']  \n",
    "\n",
    "disciplineStats2018['DAEP_Pct'] =  disciplineStats2018['COUNT OF STUDENTS REMOVED TO A DAEP'] / \\\n",
    "                                   disciplineStats2018['CAMPUS CUMULATIVE YEAR END ENROLLMENT']  \n",
    "    \n",
    "disciplineStats2018['ISS_Pct'] =  disciplineStats2018['COUNT OF STUDENTS SUSPENDED IN SCHOOL'] / \\\n",
    "                                  disciplineStats2018['CAMPUS CUMULATIVE YEAR END ENROLLMENT'] \n",
    "\n",
    "disciplineStats2018['Discr_DAEP_Pct'] =  disciplineStats2018['DISCRETIONARY DAEP REMOVALS'] / \\\n",
    "                                         disciplineStats2018['CAMPUS CUMULATIVE YEAR END ENROLLMENT'] \n",
    "\n",
    "disciplineStats2018['Discr_Expul_Pct'] =  disciplineStats2018['DISCRETIONARY EXPULSIONS'] / \\\n",
    "                                          disciplineStats2018['CAMPUS CUMULATIVE YEAR END ENROLLMENT']\n",
    "\n",
    "disciplineStats2018['Discr_Expul_JJAEP_Pct'] =  disciplineStats2018['DISCRETIONARY EXPULSIONS TO JJAEP'] / \\\n",
    "                                                disciplineStats2018['CAMPUS CUMULATIVE YEAR END ENROLLMENT']\n",
    "\n",
    "disciplineStats2018['Mand_DAEP_Pct'] = disciplineStats2018['MANDATORY DAEP REMOVALS'] / \\\n",
    "                                       disciplineStats2018['CAMPUS CUMULATIVE YEAR END ENROLLMENT'] \n",
    "\n",
    "disciplineStats2018['Mand_Expul_Pct'] = disciplineStats2018['MANDATORY EXPULSIONS'] / \\\n",
    "                                        disciplineStats2018['CAMPUS CUMULATIVE YEAR END ENROLLMENT']\n",
    "\n",
    "disciplineStats2018['Mand_Expul_JJAEP_Pct'] = disciplineStats2018['MANDATORY EXPULSIONS TO JJAEP'] / \\\n",
    "                                              disciplineStats2018['CAMPUS CUMULATIVE YEAR END ENROLLMENT']\n",
    "\n",
    "disciplineStats2018['Suspension_Pct'] = disciplineStats2018['STUDENTS SUSPENDED OUT OF SCHOOL'] / \\\n",
    "                                        disciplineStats2018['CAMPUS CUMULATIVE YEAR END ENROLLMENT']"
   ]
  },
  {
   "cell_type": "code",
   "execution_count": 77,
   "metadata": {
    "collapsed": false,
    "deletable": true,
    "editable": true
   },
   "outputs": [],
   "source": [
    "#Rank all of our percentage columns\n",
    "disciplineStats2018['DisciplinePopPct_Rank'] = disciplineStats2018['DisciplinePopPct'].rank(ascending=False, pct=True)\n",
    "disciplineStats2018['DisciplineRecordCtPct_Rank'] = disciplineStats2018['DisciplineRecordCtPct'].rank(ascending=False, pct=True)\n",
    "disciplineStats2018['ExpelledPct_Rank'] = disciplineStats2018['ExpelledPct'].rank(ascending=False, pct=True)\n",
    "disciplineStats2018['JJAEP_Pct_Rank'] = disciplineStats2018['JJAEP_Pct'].rank(ascending=False, pct=True)\n",
    "disciplineStats2018['DAEP_Pct_Rank'] = disciplineStats2018['DAEP_Pct'].rank(ascending=False, pct=True)\n",
    "disciplineStats2018['ISS_Pct_Rank'] = disciplineStats2018['ISS_Pct'].rank(ascending=False, pct=True)\n",
    "disciplineStats2018['Discr_DAEP_Pct_Rank'] = disciplineStats2018['Discr_DAEP_Pct'].rank(ascending=False, pct=True)\n",
    "disciplineStats2018['Discr_Expul_Pct_Rank'] = disciplineStats2018['Discr_Expul_Pct'].rank(ascending=False, pct=True)\n",
    "disciplineStats2018['Discr_Expul_JJAEP_Pct_Rank'] = disciplineStats2018['Discr_Expul_JJAEP_Pct'].rank(ascending=False, pct=True)\n",
    "disciplineStats2018['Mand_DAEP_Pct_Rank'] = disciplineStats2018['Mand_DAEP_Pct'].rank(ascending=False, pct=True)    \n",
    "disciplineStats2018['Mand_Expul_Pct_Rank'] = disciplineStats2018['Mand_Expul_Pct'].rank(ascending=False, pct=True)  \n",
    "disciplineStats2018['Mand_Expul_JJAEP_Pct_Rank'] = disciplineStats2018['Mand_Expul_JJAEP_Pct'].rank(ascending=False, pct=True)\n",
    "disciplineStats2018['Suspension_Pct_Rank'] = disciplineStats2018['Suspension_Pct'].rank(ascending=False, pct=True)\n",
    "\n",
    "#Create a final blended rank using all of the rank columns \n",
    "#disciplineStats2018['Blended_Rank'] = \\\n",
    "#disciplineStats2018[['DisciplinePopPct_Rank','DisciplineRecordCtPct_Rank','ExpelledPct_Rank',\n",
    "#                     'JJAEP_Pct_Rank', 'DAEP_Pct_Rank', 'ISS_Pct_Rank', 'Discr_DAEP_Pct_Rank',\n",
    "#                     'Discr_Expul_Pct_Rank','Discr_Expul_JJAEP_Pct_Rank','Mand_DAEP_Pct_Rank',\n",
    "#                     'Mand_Expul_Pct_Rank', 'Mand_Expul_JJAEP_Pct_Rank', 'Suspension_Pct_Rank'\n",
    "#                    ]].mean(axis=1)"
   ]
  },
  {
   "cell_type": "code",
   "execution_count": 78,
   "metadata": {
    "collapsed": false,
    "deletable": true,
    "editable": true
   },
   "outputs": [],
   "source": [
    "#Save the final rankings data to a csv file\n",
    "outpath = 'D:/Nathan/HebronSchoolData/RawData/CampusDisciplineStatsAndRanks2018.csv'\n",
    "disciplineStats2018.to_csv(outpath, sep=',', index=False)"
   ]
  },
  {
   "cell_type": "markdown",
   "metadata": {
    "collapsed": true,
    "deletable": true,
    "editable": true
   },
   "source": [
    "# District Level Discipline Ranks Dataset\n",
    "* This dataset ranks all school discipline trends in the State of Texas at the district level"
   ]
  },
  {
   "cell_type": "code",
   "execution_count": 79,
   "metadata": {
    "collapsed": false
   },
   "outputs": [],
   "source": [
    "#Fields to summarize at the district level\n",
    "colsToSum = ['CAMPUS CUMULATIVE YEAR END ENROLLMENT',\n",
    "               'CAMPUS DISCIPLINE POPULATION','CAMPUS DISCIPLINE RECORD COUNT','COUNT OF STUDENTS EXPELLED',\n",
    "               'COUNT OF STUDENTS EXPELLED TO JJAEP', 'COUNT OF STUDENTS REMOVED TO A DAEP',\n",
    "               'COUNT OF STUDENTS SUSPENDED IN SCHOOL', 'DISCRETIONARY DAEP REMOVALS', 'DISCRETIONARY EXPULSIONS',\n",
    "               'DISCRETIONARY EXPULSIONS TO JJAEP', 'MANDATORY DAEP REMOVALS', 'MANDATORY EXPULSIONS',\n",
    "               'MANDATORY EXPULSIONS TO JJAEP','STUDENTS SUSPENDED OUT OF SCHOOL' \n",
    "              ]\n",
    "\n",
    "#Sum all disciplne columns by school district\n",
    "distDisciplineStats2018 = rawDisciplineStats2018.groupby(['REGION', 'DISTRICT NAME AND NUMBER'])[colsToSum].sum()\n",
    "\n",
    "#Make our index a column for csv file\n",
    "distDisciplineStats2018.reset_index(inplace=True)\n",
    "\n",
    "#Update column names to district level\n",
    "distDisciplineStats2018.columns = [col.replace('CAMPUS ','') for col in distDisciplineStats2018.columns]\n",
    "distDisciplineStats2018.columns = [col.replace('COUNT OF ','') for col in distDisciplineStats2018.columns]"
   ]
  },
  {
   "cell_type": "code",
   "execution_count": 80,
   "metadata": {
    "collapsed": false
   },
   "outputs": [],
   "source": [
    "#Save the raw district level discipline stats without rankings to a csv file\n",
    "outpath = 'D:/Nathan/HebronSchoolData/RawData/DistrictDisciplineStats2018.csv'\n",
    "distDisciplineStats2018.to_csv(outpath, sep=',', index=False)"
   ]
  },
  {
   "cell_type": "markdown",
   "metadata": {},
   "source": [
    "## Creating the District Disipline Ranks"
   ]
  },
  {
   "cell_type": "code",
   "execution_count": 82,
   "metadata": {
    "collapsed": false
   },
   "outputs": [],
   "source": [
    "#Create and rank disipline percentages \n",
    "distDisciplineStats2018['DisciplinePopPct'] = distDisciplineStats2018['DISCIPLINE POPULATION'] / \\\n",
    "                                          distDisciplineStats2018['CUMULATIVE YEAR END ENROLLMENT']\n",
    "\n",
    "distDisciplineStats2018['DisciplineRecordCtPct'] =  distDisciplineStats2018['DISCIPLINE RECORD COUNT'] / \\\n",
    "                                                distDisciplineStats2018['CUMULATIVE YEAR END ENROLLMENT']\n",
    "    \n",
    "distDisciplineStats2018['ExpelledPct'] =  distDisciplineStats2018['STUDENTS EXPELLED'] / \\\n",
    "                                      distDisciplineStats2018['CUMULATIVE YEAR END ENROLLMENT']\n",
    "\n",
    "distDisciplineStats2018['JJAEP_Pct'] =  distDisciplineStats2018['STUDENTS EXPELLED TO JJAEP'] / \\\n",
    "                                   distDisciplineStats2018['CUMULATIVE YEAR END ENROLLMENT']  \n",
    "\n",
    "distDisciplineStats2018['DAEP_Pct'] =  distDisciplineStats2018['STUDENTS REMOVED TO A DAEP'] / \\\n",
    "                                   distDisciplineStats2018['CUMULATIVE YEAR END ENROLLMENT']  \n",
    "    \n",
    "distDisciplineStats2018['ISS_Pct'] =  distDisciplineStats2018['STUDENTS SUSPENDED IN SCHOOL'] / \\\n",
    "                                  distDisciplineStats2018['CUMULATIVE YEAR END ENROLLMENT'] \n",
    "\n",
    "distDisciplineStats2018['Discr_DAEP_Pct'] =  distDisciplineStats2018['DISCRETIONARY DAEP REMOVALS'] / \\\n",
    "                                         distDisciplineStats2018['CUMULATIVE YEAR END ENROLLMENT'] \n",
    "\n",
    "distDisciplineStats2018['Discr_Expul_Pct'] =  distDisciplineStats2018['DISCRETIONARY EXPULSIONS'] / \\\n",
    "                                          distDisciplineStats2018['CUMULATIVE YEAR END ENROLLMENT']\n",
    "\n",
    "distDisciplineStats2018['Discr_Expul_JJAEP_Pct'] =  distDisciplineStats2018['DISCRETIONARY EXPULSIONS TO JJAEP'] / \\\n",
    "                                                distDisciplineStats2018['CUMULATIVE YEAR END ENROLLMENT']\n",
    "\n",
    "distDisciplineStats2018['Mand_DAEP_Pct'] = distDisciplineStats2018['MANDATORY DAEP REMOVALS'] / \\\n",
    "                                       distDisciplineStats2018['CUMULATIVE YEAR END ENROLLMENT'] \n",
    "\n",
    "distDisciplineStats2018['Mand_Expul_Pct'] = distDisciplineStats2018['MANDATORY EXPULSIONS'] / \\\n",
    "                                        distDisciplineStats2018['CUMULATIVE YEAR END ENROLLMENT']\n",
    "\n",
    "distDisciplineStats2018['Mand_Expul_JJAEP_Pct'] = distDisciplineStats2018['MANDATORY EXPULSIONS TO JJAEP'] / \\\n",
    "                                              distDisciplineStats2018['CUMULATIVE YEAR END ENROLLMENT']\n",
    "\n",
    "distDisciplineStats2018['Suspension_Pct'] = distDisciplineStats2018['STUDENTS SUSPENDED OUT OF SCHOOL'] / \\\n",
    "                                        distDisciplineStats2018['CUMULATIVE YEAR END ENROLLMENT']"
   ]
  },
  {
   "cell_type": "code",
   "execution_count": 83,
   "metadata": {
    "collapsed": true
   },
   "outputs": [],
   "source": [
    "#Rank all of our percentage columns\n",
    "distDisciplineStats2018['DisciplinePopPct_Rank'] = distDisciplineStats2018['DisciplinePopPct'].rank(ascending=False, pct=True)\n",
    "distDisciplineStats2018['DisciplineRecordCtPct_Rank'] = distDisciplineStats2018['DisciplineRecordCtPct'].rank(ascending=False, pct=True)\n",
    "distDisciplineStats2018['ExpelledPct_Rank'] = distDisciplineStats2018['ExpelledPct'].rank(ascending=False, pct=True)\n",
    "distDisciplineStats2018['JJAEP_Pct_Rank'] = distDisciplineStats2018['JJAEP_Pct'].rank(ascending=False, pct=True)\n",
    "distDisciplineStats2018['DAEP_Pct_Rank'] = distDisciplineStats2018['DAEP_Pct'].rank(ascending=False, pct=True)\n",
    "distDisciplineStats2018['ISS_Pct_Rank'] = distDisciplineStats2018['ISS_Pct'].rank(ascending=False, pct=True)\n",
    "distDisciplineStats2018['Discr_DAEP_Pct_Rank'] = distDisciplineStats2018['Discr_DAEP_Pct'].rank(ascending=False, pct=True)\n",
    "distDisciplineStats2018['Discr_Expul_Pct_Rank'] = distDisciplineStats2018['Discr_Expul_Pct'].rank(ascending=False, pct=True)\n",
    "distDisciplineStats2018['Discr_Expul_JJAEP_Pct_Rank'] = distDisciplineStats2018['Discr_Expul_JJAEP_Pct'].rank(ascending=False, pct=True)\n",
    "distDisciplineStats2018['Mand_DAEP_Pct_Rank'] = distDisciplineStats2018['Mand_DAEP_Pct'].rank(ascending=False, pct=True)    \n",
    "distDisciplineStats2018['Mand_Expul_Pct_Rank'] = distDisciplineStats2018['Mand_Expul_Pct'].rank(ascending=False, pct=True)  \n",
    "distDisciplineStats2018['Mand_Expul_JJAEP_Pct_Rank'] = distDisciplineStats2018['Mand_Expul_JJAEP_Pct'].rank(ascending=False, pct=True)\n",
    "distDisciplineStats2018['Suspension_Pct_Rank'] = distDisciplineStats2018['Suspension_Pct'].rank(ascending=False, pct=True)"
   ]
  },
  {
   "cell_type": "code",
   "execution_count": 84,
   "metadata": {
    "collapsed": true
   },
   "outputs": [],
   "source": [
    "#Save the district level discipline stats and rankings to a csv file\n",
    "outpath = 'D:/Nathan/HebronSchoolData/RawData/DistrictDisciplineStatsAndRanks2018.csv'\n",
    "distDisciplineStats2018.to_csv(outpath, sep=',', index=False)"
   ]
  }
 ],
 "metadata": {
  "kernelspec": {
   "display_name": "Python 2",
   "language": "python",
   "name": "python2"
  },
  "language_info": {
   "codemirror_mode": {
    "name": "ipython",
    "version": 2
   },
   "file_extension": ".py",
   "mimetype": "text/x-python",
   "name": "python",
   "nbconvert_exporter": "python",
   "pygments_lexer": "ipython2",
   "version": "2.7.11"
  }
 },
 "nbformat": 4,
 "nbformat_minor": 0
}
